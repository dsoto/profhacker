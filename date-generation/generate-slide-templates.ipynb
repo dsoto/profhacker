{
 "metadata": {
  "name": ""
 },
 "nbformat": 3,
 "nbformat_minor": 0,
 "worksheets": [
  {
   "cells": [
    {
     "cell_type": "markdown",
     "metadata": {},
     "source": [
      "# Class Date Generator\n",
      "\n",
      "This generates a list of potential class dates for a class that can be cut and pasted into a syllabus document."
     ]
    },
    {
     "cell_type": "code",
     "collapsed": false,
     "input": [
      "from dateutil import *\n",
      "from dateutil.rrule import *\n",
      "import datetime as dt\n",
      "format_string = '%A, %d %b %Y'"
     ],
     "language": "python",
     "metadata": {},
     "outputs": [],
     "prompt_number": 15
    },
    {
     "cell_type": "code",
     "collapsed": false,
     "input": [
      "first_day_of_instruction = dt.datetime(2014, 1, 13)\n",
      "last_day_of_instruction = dt.datetime(2014, 1, 20)\n",
      "\n",
      "holidays = (dt.datetime(2014, 1, 20),\n",
      "            dt.datetime(2014, 3, 17),\n",
      "            dt.datetime(2014, 3, 18),\n",
      "            dt.datetime(2014, 3, 19),\n",
      "            dt.datetime(2014, 3, 20),\n",
      "            dt.datetime(2014, 3, 21),\n",
      "            dt.datetime(2014, 3, 31)\n",
      "            )\n",
      "\n",
      "def print_slides(dates, holidays):\n",
      "    lecture_number = 0\n",
      "    for d in dates:\n",
      "        if d not in holidays:\n",
      "            lecture_number += 1\n",
      "            filename = 'lecture-notes-%02d.md' % lecture_number\n",
      "            f = open(filename, 'w')\n",
      "            f.write('% Lecture ' + str(lecture_number) + ', ' + d.strftime(format_string) + '\\n')\n",
      "            f.write('% ENSP 338\\n')\n",
      "            f.write('% Professor Daniel Soto, Sonoma State University\\n\\n')\n",
      "            f.write('## Announcements\\n\\n')\n",
      "            f.write('## Upcoming Deadlines\\n\\n')\n",
      "            f.write('## Agenda')"
     ],
     "language": "python",
     "metadata": {},
     "outputs": [],
     "prompt_number": 36
    },
    {
     "cell_type": "code",
     "collapsed": false,
     "input": [
      "# ENSP 202 meets 10:45-12:00 MW RCH14\n",
      "dates = list(rrule(DAILY, \n",
      "                   byweekday=(MO, WE), \n",
      "                   dtstart=first_day_of_instruction, \n",
      "                   until=last_day_of_instruction))\n",
      "print_slides(dates, holidays)"
     ],
     "language": "python",
     "metadata": {},
     "outputs": [],
     "prompt_number": 37
    },
    {
     "cell_type": "code",
     "collapsed": false,
     "input": [],
     "language": "python",
     "metadata": {},
     "outputs": []
    }
   ],
   "metadata": {}
  }
 ]
}