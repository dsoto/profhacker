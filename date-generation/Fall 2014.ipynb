{
 "metadata": {
  "name": "",
  "signature": "sha256:4280112c805195bddf15754b5a1ec330277e076a650757960c93f0b7ff2c17dc"
 },
 "nbformat": 3,
 "nbformat_minor": 0,
 "worksheets": [
  {
   "cells": [
    {
     "cell_type": "markdown",
     "metadata": {},
     "source": [
      "# New date generator\n",
      "\n",
      "I'd like to use a more elegant generator without dateutils so I'm using a while loop instead of a finite list.  The generator will emit dates without stopping.  It is the responsibilty of the caller to define the logic.\n",
      "\n",
      "I'll use this for Fall 2014 schedules."
     ]
    },
    {
     "cell_type": "code",
     "collapsed": false,
     "input": [
      "from dates import *\n",
      "import datetime as dt"
     ],
     "language": "python",
     "metadata": {},
     "outputs": [],
     "prompt_number": 2
    },
    {
     "cell_type": "code",
     "collapsed": false,
     "input": [
      "holidays = [dt.date(2014, 9, 1),\n",
      "            dt.date(2014, 10, 4),\n",
      "            dt.date(2014, 11, 26),\n",
      "            dt.date(2014, 11, 27),\n",
      "            dt.date(2014, 11, 28)]\n",
      "refdate = dt.date(2014, 8, 19)\n",
      "first_day = dt.date(2014, 8, 19)\n",
      "last_day = dt.date(2014, 12, 5)"
     ],
     "language": "python",
     "metadata": {},
     "outputs": [],
     "prompt_number": 4
    },
    {
     "cell_type": "code",
     "collapsed": false,
     "input": [
      "classdays = (2, 4)\n",
      "template_string = 'lecture {i:2}  {date:%a, %d %b %Y}  week {week:2}'\n",
      "print_dates(first_day, last_day, classdays, holidays, template_string)"
     ],
     "language": "python",
     "metadata": {},
     "outputs": [
      {
       "output_type": "stream",
       "stream": "stdout",
       "text": [
        "lecture  1  Tue, 19 Aug 2014  week  1\n",
        "lecture  2  Thu, 21 Aug 2014  week  1\n",
        "lecture  3  Tue, 26 Aug 2014  week  2\n",
        "lecture  4  Thu, 28 Aug 2014  week  2\n",
        "lecture  5  Tue, 02 Sep 2014  week  3\n",
        "lecture  6  Thu, 04 Sep 2014  week  3\n",
        "lecture  7  Tue, 09 Sep 2014  week  4\n",
        "lecture  8  Thu, 11 Sep 2014  week  4\n",
        "lecture  9  Tue, 16 Sep 2014  week  5\n",
        "lecture 10  Thu, 18 Sep 2014  week  5\n",
        "lecture 11  Tue, 23 Sep 2014  week  6\n",
        "lecture 12  Thu, 25 Sep 2014  week  6\n",
        "lecture 13  Tue, 30 Sep 2014  week  7\n",
        "lecture 14  Thu, 02 Oct 2014  week  7\n",
        "lecture 15  Tue, 07 Oct 2014  week  8\n",
        "lecture 16  Thu, 09 Oct 2014  week  8\n",
        "lecture 17  Tue, 14 Oct 2014  week  9\n",
        "lecture 18  Thu, 16 Oct 2014  week  9\n",
        "lecture 19  Tue, 21 Oct 2014  week 10\n",
        "lecture 20  Thu, 23 Oct 2014  week 10\n",
        "lecture 21  Tue, 28 Oct 2014  week 11\n",
        "lecture 22  Thu, 30 Oct 2014  week 11\n",
        "lecture 23  Tue, 04 Nov 2014  week 12\n",
        "lecture 24  Thu, 06 Nov 2014  week 12\n",
        "lecture 25  Tue, 11 Nov 2014  week 13\n",
        "lecture 26  Thu, 13 Nov 2014  week 13\n",
        "lecture 27  Tue, 18 Nov 2014  week 14\n",
        "lecture 28  Thu, 20 Nov 2014  week 14\n",
        "lecture 29  Tue, 25 Nov 2014  week 15\n",
        "lecture 30  Tue, 02 Dec 2014  week 16\n",
        "lecture 31  Thu, 04 Dec 2014  week 16\n"
       ]
      }
     ],
     "prompt_number": 7
    },
    {
     "cell_type": "code",
     "collapsed": false,
     "input": [
      "classdays = (1, 3)\n",
      "template_string = 'lecture {i:2}  {date:%a, %d %b %Y}  week {week:2}'\n",
      "print_dates(first_day, last_day, classdays, holidays, template_string)"
     ],
     "language": "python",
     "metadata": {},
     "outputs": [
      {
       "output_type": "stream",
       "stream": "stdout",
       "text": [
        "lecture  1  Wed, 20 Aug 2014  week  1\n",
        "lecture  2  Mon, 25 Aug 2014  week  2\n",
        "lecture  3  Wed, 27 Aug 2014  week  2\n",
        "lecture  4  Wed, 03 Sep 2014  week  3\n",
        "lecture  5  Mon, 08 Sep 2014  week  4\n",
        "lecture  6  Wed, 10 Sep 2014  week  4\n",
        "lecture  7  Mon, 15 Sep 2014  week  5\n",
        "lecture  8  Wed, 17 Sep 2014  week  5\n",
        "lecture  9  Mon, 22 Sep 2014  week  6\n",
        "lecture 10  Wed, 24 Sep 2014  week  6\n",
        "lecture 11  Mon, 29 Sep 2014  week  7\n",
        "lecture 12  Wed, 01 Oct 2014  week  7\n",
        "lecture 13  Mon, 06 Oct 2014  week  8\n",
        "lecture 14  Wed, 08 Oct 2014  week  8\n",
        "lecture 15  Mon, 13 Oct 2014  week  9\n",
        "lecture 16  Wed, 15 Oct 2014  week  9\n",
        "lecture 17  Mon, 20 Oct 2014  week 10\n",
        "lecture 18  Wed, 22 Oct 2014  week 10\n",
        "lecture 19  Mon, 27 Oct 2014  week 11\n",
        "lecture 20  Wed, 29 Oct 2014  week 11\n",
        "lecture 21  Mon, 03 Nov 2014  week 12\n",
        "lecture 22  Wed, 05 Nov 2014  week 12\n",
        "lecture 23  Mon, 10 Nov 2014  week 13\n",
        "lecture 24  Wed, 12 Nov 2014  week 13\n",
        "lecture 25  Mon, 17 Nov 2014  week 14\n",
        "lecture 26  Wed, 19 Nov 2014  week 14\n",
        "lecture 27  Mon, 24 Nov 2014  week 15\n",
        "lecture 28  Mon, 01 Dec 2014  week 16\n",
        "lecture 29  Wed, 03 Dec 2014  week 16\n"
       ]
      }
     ],
     "prompt_number": 8
    }
   ],
   "metadata": {}
  }
 ]
}