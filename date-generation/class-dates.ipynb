{
 "metadata": {
  "name": ""
 },
 "nbformat": 3,
 "nbformat_minor": 0,
 "worksheets": [
  {
   "cells": [
    {
     "cell_type": "markdown",
     "metadata": {},
     "source": [
      "# Class Date Generator\n",
      "\n",
      "This generates a list of potential class dates for a class that can be cut and pasted into a syllabus document."
     ]
    },
    {
     "cell_type": "code",
     "collapsed": false,
     "input": [
      "from dateutil import *\n",
      "from dateutil.rrule import *\n",
      "import datetime as dt\n",
      "format_string = '%A, %d %b %Y'"
     ],
     "language": "python",
     "metadata": {},
     "outputs": [],
     "prompt_number": 1
    },
    {
     "cell_type": "code",
     "collapsed": false,
     "input": [
      "first_day_of_instruction = dt.datetime(2014, 1, 13)\n",
      "last_day_of_instruction = dt.datetime(2014, 5, 2)\n",
      "\n",
      "holidays = (dt.datetime(2014, 1, 20),\n",
      "            dt.datetime(2014, 3, 17),\n",
      "            dt.datetime(2014, 3, 18),\n",
      "            dt.datetime(2014, 3, 19),\n",
      "            dt.datetime(2014, 3, 20),\n",
      "            dt.datetime(2014, 3, 21),\n",
      "            dt.datetime(2014, 3, 31)\n",
      "            )\n",
      "\n",
      "# using generators instead of fragile counting logic\n",
      "# inspired by ned batchelder loop like a native\n",
      "def dates_without_holidays(dates, holidays):\n",
      "    for d in dates:\n",
      "        if d not in holidays:\n",
      "            yield d\n",
      "\n",
      "def print_lectures(dates, holidays):\n",
      "    for i, d in enumerate(dates_without_holidays(dates, holidays)):\n",
      "        print('## ' + str(i + 1) + '. ' + d.strftime(format_string))"
     ],
     "language": "python",
     "metadata": {},
     "outputs": [],
     "prompt_number": 2
    },
    {
     "cell_type": "code",
     "collapsed": false,
     "input": [
      "# ENSP 202 meets 10:45-12:00 MW RCH14\n",
      "dates = list(rrule(DAILY, \n",
      "                   byweekday=(MO, WE), \n",
      "                   dtstart=first_day_of_instruction, \n",
      "                   until=last_day_of_instruction))\n",
      "print_lectures(dates, holidays)"
     ],
     "language": "python",
     "metadata": {},
     "outputs": [
      {
       "output_type": "stream",
       "stream": "stdout",
       "text": [
        "## 1. Monday, 13 Jan 2014\n",
        "## 2. Wednesday, 15 Jan 2014\n",
        "## 3. Wednesday, 22 Jan 2014\n",
        "## 4. Monday, 27 Jan 2014\n",
        "## 5. Wednesday, 29 Jan 2014\n",
        "## 6. Monday, 03 Feb 2014\n",
        "## 7. Wednesday, 05 Feb 2014\n",
        "## 8. Monday, 10 Feb 2014\n",
        "## 9. Wednesday, 12 Feb 2014\n",
        "## 10. Monday, 17 Feb 2014\n",
        "## 11. Wednesday, 19 Feb 2014\n",
        "## 12. Monday, 24 Feb 2014\n",
        "## 13. Wednesday, 26 Feb 2014\n",
        "## 14. Monday, 03 Mar 2014\n",
        "## 15. Wednesday, 05 Mar 2014\n",
        "## 16. Monday, 10 Mar 2014\n",
        "## 17. Wednesday, 12 Mar 2014\n",
        "## 18. Monday, 24 Mar 2014\n",
        "## 19. Wednesday, 26 Mar 2014\n",
        "## 20. Wednesday, 02 Apr 2014\n",
        "## 21. Monday, 07 Apr 2014\n",
        "## 22. Wednesday, 09 Apr 2014\n",
        "## 23. Monday, 14 Apr 2014\n",
        "## 24. Wednesday, 16 Apr 2014\n",
        "## 25. Monday, 21 Apr 2014\n",
        "## 26. Wednesday, 23 Apr 2014\n",
        "## 27. Monday, 28 Apr 2014\n",
        "## 28. Wednesday, 30 Apr 2014\n"
       ]
      }
     ],
     "prompt_number": 3
    },
    {
     "cell_type": "code",
     "collapsed": false,
     "input": [
      "# ENSP 438 meets 10-11:50 TTh ETC\n",
      "dates = list(rrule(DAILY, \n",
      "                   byweekday=(TU, TH), \n",
      "                   dtstart=first_day_of_instruction, \n",
      "                   until=last_day_of_instruction))\n",
      "print_lectures(dates, holidays)"
     ],
     "language": "python",
     "metadata": {},
     "outputs": [
      {
       "output_type": "stream",
       "stream": "stdout",
       "text": [
        "## 1. Tuesday, 14 Jan 2014\n",
        "## 2. Thursday, 16 Jan 2014\n",
        "## 3. Tuesday, 21 Jan 2014\n",
        "## 4. Thursday, 23 Jan 2014\n",
        "## 5. Tuesday, 28 Jan 2014\n",
        "## 6. Thursday, 30 Jan 2014\n",
        "## 7. Tuesday, 04 Feb 2014\n",
        "## 8. Thursday, 06 Feb 2014\n",
        "## 9. Tuesday, 11 Feb 2014\n",
        "## 10. Thursday, 13 Feb 2014\n",
        "## 11. Tuesday, 18 Feb 2014\n",
        "## 12. Thursday, 20 Feb 2014\n",
        "## 13. Tuesday, 25 Feb 2014\n",
        "## 14. Thursday, 27 Feb 2014\n",
        "## 15. Tuesday, 04 Mar 2014\n",
        "## 16. Thursday, 06 Mar 2014\n",
        "## 17. Tuesday, 11 Mar 2014\n",
        "## 18. Thursday, 13 Mar 2014\n",
        "## 19. Tuesday, 25 Mar 2014\n",
        "## 20. Thursday, 27 Mar 2014\n",
        "## 21. Tuesday, 01 Apr 2014\n",
        "## 22. Thursday, 03 Apr 2014\n",
        "## 23. Tuesday, 08 Apr 2014\n",
        "## 24. Thursday, 10 Apr 2014\n",
        "## 25. Tuesday, 15 Apr 2014\n",
        "## 26. Thursday, 17 Apr 2014\n",
        "## 27. Tuesday, 22 Apr 2014\n",
        "## 28. Thursday, 24 Apr 2014\n",
        "## 29. Tuesday, 29 Apr 2014\n",
        "## 30. Thursday, 01 May 2014\n"
       ]
      }
     ],
     "prompt_number": 4
    },
    {
     "cell_type": "code",
     "collapsed": false,
     "input": [
      "# ENSP 430 meets 4-6:40 M\n",
      "dates = list(rrule(DAILY, \n",
      "                   byweekday=(MO), \n",
      "                   dtstart=first_day_of_instruction, \n",
      "                   until=last_day_of_instruction))\n",
      "print_lectures(dates, holidays)"
     ],
     "language": "python",
     "metadata": {},
     "outputs": [
      {
       "output_type": "stream",
       "stream": "stdout",
       "text": [
        "## 1. Monday, 13 Jan 2014\n",
        "## 2. Monday, 27 Jan 2014\n",
        "## 3. Monday, 03 Feb 2014\n",
        "## 4. Monday, 10 Feb 2014\n",
        "## 5. Monday, 17 Feb 2014\n",
        "## 6. Monday, 24 Feb 2014\n",
        "## 7. Monday, 03 Mar 2014\n",
        "## 8. Monday, 10 Mar 2014\n",
        "## 9. Monday, 24 Mar 2014\n",
        "## 10. Monday, 07 Apr 2014\n",
        "## 11. Monday, 14 Apr 2014\n",
        "## 12. Monday, 21 Apr 2014\n",
        "## 13. Monday, 28 Apr 2014\n"
       ]
      }
     ],
     "prompt_number": 5
    },
    {
     "cell_type": "code",
     "collapsed": false,
     "input": [],
     "language": "python",
     "metadata": {},
     "outputs": [],
     "prompt_number": 5
    }
   ],
   "metadata": {}
  }
 ]
}