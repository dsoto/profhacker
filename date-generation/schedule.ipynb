{
 "metadata": {
  "name": ""
 },
 "nbformat": 3,
 "nbformat_minor": 0,
 "worksheets": [
  {
   "cells": [
    {
     "cell_type": "markdown",
     "metadata": {},
     "source": [
      "# Write all dates\n",
      "\n",
      "Simple script to output all dates for use in planning and logs."
     ]
    },
    {
     "cell_type": "code",
     "collapsed": false,
     "input": [
      "from dates import *\n",
      "from dateutil import *\n",
      "from dateutil.rrule import *\n",
      "import datetime as dt"
     ],
     "language": "python",
     "metadata": {},
     "outputs": [],
     "prompt_number": 4
    },
    {
     "cell_type": "code",
     "collapsed": false,
     "input": [
      "# ignore enumerate variable in template\n",
      "template = '''{date:%a %d %b %Y}'''\n",
      "# %a day abbrev\n",
      "# %b month abbrev\n",
      "first_day = dt.datetime(2014, 2, 16)\n",
      "last_day = dt.datetime(2014, 3, 1)\n",
      "# no holidays\n",
      "holidays = ()\n",
      "# list every date for use in schedules and planners\n",
      "output_text(first_day, last_day, (MO, TU, WE, TH, FR, SA, SU), holidays, template)"
     ],
     "language": "python",
     "metadata": {},
     "outputs": [
      {
       "output_type": "stream",
       "stream": "stdout",
       "text": [
        "Sun 16 Feb 2014\n",
        "Mon 17 Feb 2014\n",
        "Tue 18 Feb 2014\n",
        "Wed 19 Feb 2014\n",
        "Thu 20 Feb 2014\n",
        "Fri 21 Feb 2014\n",
        "Sat 22 Feb 2014\n",
        "Sun 23 Feb 2014\n",
        "Mon 24 Feb 2014\n",
        "Tue 25 Feb 2014\n",
        "Wed 26 Feb 2014\n",
        "Thu 27 Feb 2014\n",
        "Fri 28 Feb 2014\n",
        "Sat 01 Mar 2014\n"
       ]
      }
     ],
     "prompt_number": 5
    },
    {
     "cell_type": "code",
     "collapsed": false,
     "input": [],
     "language": "python",
     "metadata": {},
     "outputs": [],
     "prompt_number": 5
    }
   ],
   "metadata": {}
  }
 ]
}