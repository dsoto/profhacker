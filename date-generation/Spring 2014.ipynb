{
 "metadata": {
  "name": "",
  "signature": "sha256:5a1ae6cfa13e9c442e5ebfa206a690fd2f392848d475c37db98e5c3dec23b204"
 },
 "nbformat": 3,
 "nbformat_minor": 0,
 "worksheets": [
  {
   "cells": [
    {
     "cell_type": "markdown",
     "metadata": {},
     "source": [
      "# Spring 2014"
     ]
    },
    {
     "cell_type": "code",
     "collapsed": false,
     "input": [
      "import datetime as dt\n",
      "from dates import *\n",
      "\n",
      "first_day = dt.datetime(2014, 1, 13)\n",
      "last_day = dt.datetime(2014, 5, 2)\n",
      "holidays = (dt.datetime(2014, 1, 20),\n",
      "            dt.datetime(2014, 3, 17),\n",
      "            dt.datetime(2014, 3, 18),\n",
      "            dt.datetime(2014, 3, 19),\n",
      "            dt.datetime(2014, 3, 20),\n",
      "            dt.datetime(2014, 3, 21),\n",
      "            dt.datetime(2014, 3, 31)\n",
      "            )\n",
      "\n",
      "        \n",
      "classdays = (2, 4)\n",
      "template_string = 'lecture {i:2}  {date:%a, %d %b %Y}  week {week:2}'\n",
      "print_dates(first_day, last_day, classdays, holidays, template_string)"
     ],
     "language": "python",
     "metadata": {},
     "outputs": [
      {
       "output_type": "stream",
       "stream": "stdout",
       "text": [
        "lecture  1  Tue, 14 Jan 2014  week  1\n",
        "lecture  2  Thu, 16 Jan 2014  week  1\n",
        "lecture  3  Tue, 21 Jan 2014  week  2\n",
        "lecture  4  Thu, 23 Jan 2014  week  2\n",
        "lecture  5  Tue, 28 Jan 2014  week  3\n",
        "lecture  6  Thu, 30 Jan 2014  week  3\n",
        "lecture  7  Tue, 04 Feb 2014  week  4\n",
        "lecture  8  Thu, 06 Feb 2014  week  4\n",
        "lecture  9  Tue, 11 Feb 2014  week  5\n",
        "lecture 10  Thu, 13 Feb 2014  week  5\n",
        "lecture 11  Tue, 18 Feb 2014  week  6\n",
        "lecture 12  Thu, 20 Feb 2014  week  6\n",
        "lecture 13  Tue, 25 Feb 2014  week  7\n",
        "lecture 14  Thu, 27 Feb 2014  week  7\n",
        "lecture 15  Tue, 04 Mar 2014  week  8\n",
        "lecture 16  Thu, 06 Mar 2014  week  8\n",
        "lecture 17  Tue, 11 Mar 2014  week  9\n",
        "lecture 18  Thu, 13 Mar 2014  week  9\n",
        "lecture 19  Tue, 25 Mar 2014  week 11\n",
        "lecture 20  Thu, 27 Mar 2014  week 11\n",
        "lecture 21  Tue, 01 Apr 2014  week 12\n",
        "lecture 22  Thu, 03 Apr 2014  week 12\n",
        "lecture 23  Tue, 08 Apr 2014  week 13\n",
        "lecture 24  Thu, 10 Apr 2014  week 13\n",
        "lecture 25  Tue, 15 Apr 2014  week 14\n",
        "lecture 26  Thu, 17 Apr 2014  week 14\n",
        "lecture 27  Tue, 22 Apr 2014  week 15\n",
        "lecture 28  Thu, 24 Apr 2014  week 15\n",
        "lecture 29  Tue, 29 Apr 2014  week 16\n",
        "lecture 30  Thu, 01 May 2014  week 16\n"
       ]
      }
     ],
     "prompt_number": 2
    },
    {
     "cell_type": "code",
     "collapsed": false,
     "input": [
      "classdays = (1, 3)\n",
      "template_string = 'lecture {i:2}  {date:%a, %d %b %Y}  week {week:2}'\n",
      "print_dates(first_day, last_day, classdays, holidays, template_string)"
     ],
     "language": "python",
     "metadata": {},
     "outputs": [
      {
       "output_type": "stream",
       "stream": "stdout",
       "text": [
        "lecture  1  Mon, 13 Jan 2014  week  1\n",
        "lecture  2  Wed, 15 Jan 2014  week  1\n",
        "lecture  3  Wed, 22 Jan 2014  week  2\n",
        "lecture  4  Mon, 27 Jan 2014  week  3\n",
        "lecture  5  Wed, 29 Jan 2014  week  3\n",
        "lecture  6  Mon, 03 Feb 2014  week  4\n",
        "lecture  7  Wed, 05 Feb 2014  week  4\n",
        "lecture  8  Mon, 10 Feb 2014  week  5\n",
        "lecture  9  Wed, 12 Feb 2014  week  5\n",
        "lecture 10  Mon, 17 Feb 2014  week  6\n",
        "lecture 11  Wed, 19 Feb 2014  week  6\n",
        "lecture 12  Mon, 24 Feb 2014  week  7\n",
        "lecture 13  Wed, 26 Feb 2014  week  7\n",
        "lecture 14  Mon, 03 Mar 2014  week  8\n",
        "lecture 15  Wed, 05 Mar 2014  week  8\n",
        "lecture 16  Mon, 10 Mar 2014  week  9\n",
        "lecture 17  Wed, 12 Mar 2014  week  9\n",
        "lecture 18  Mon, 24 Mar 2014  week 11\n",
        "lecture 19  Wed, 26 Mar 2014  week 11\n",
        "lecture 20  Wed, 02 Apr 2014  week 12\n",
        "lecture 21  Mon, 07 Apr 2014  week 13\n",
        "lecture 22  Wed, 09 Apr 2014  week 13\n",
        "lecture 23  Mon, 14 Apr 2014  week 14\n",
        "lecture 24  Wed, 16 Apr 2014  week 14\n",
        "lecture 25  Mon, 21 Apr 2014  week 15\n",
        "lecture 26  Wed, 23 Apr 2014  week 15\n",
        "lecture 27  Mon, 28 Apr 2014  week 16\n",
        "lecture 28  Wed, 30 Apr 2014  week 16\n"
       ]
      }
     ],
     "prompt_number": 3
    }
   ],
   "metadata": {}
  }
 ]
}