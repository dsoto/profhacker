{
 "cells": [
  {
   "cell_type": "markdown",
   "metadata": {},
   "source": [
    "This notebook connects a simple grading applet to a google spreadsheet backend using the gspread library.\n",
    "\n",
    "The spreadsheet has student names in the first column and homework assignments in the first row.\n",
    "\n",
    "Using tab and shift-tab allows you to move between the fields which is efficient."
   ]
  },
  {
   "cell_type": "code",
   "execution_count": 1,
   "metadata": {
    "collapsed": false
   },
   "outputs": [],
   "source": [
    "import json\n",
    "import gspread\n",
    "from oauth2client.service_account import ServiceAccountCredentials\n",
    "scope = ['https://spreadsheets.google.com/feeds']\n",
    "credentials = ServiceAccountCredentials.from_json_keyfile_name('oauth-keyfile.json', scopes=scope)\n",
    "gc = gspread.authorize(credentials)"
   ]
  },
  {
   "cell_type": "code",
   "execution_count": 2,
   "metadata": {
    "collapsed": false
   },
   "outputs": [],
   "source": [
    "grades = gc.open(\"202-gspread-test\")\n",
    "gradesheet = grades.worksheet('homework')\n",
    "\n",
    "# get list of assignments from first row and column and dump blank value\n",
    "assignments = gradesheet.row_values(1)[1:]\n",
    "names = gradesheet.col_values(1)[1:]"
   ]
  },
  {
   "cell_type": "code",
   "execution_count": 4,
   "metadata": {
    "collapsed": false
   },
   "outputs": [],
   "source": [
    "from ipywidgets import widgets\n",
    "from IPython.display import display\n",
    "\n",
    "def print_list(change):\n",
    "    # return a comma separated string with matches\n",
    "    reduced_options = [f for f in assignments if assignment_input.value.lower() in f.lower()]\n",
    "    assignment_matches.value = ', '.join(reduced_options)\n",
    "\n",
    "def print_names(change):\n",
    "    # return a comma separated string with matches\n",
    "    reduced_options = [f for f in names if name_input.value.lower() in f.lower()]\n",
    "    name_matches.value = ', '.join(reduced_options)\n",
    "\n",
    "def write_to_gspread(change):\n",
    "    # get row and col associated with matched name and assignment and write grade to cell\n",
    "    thisrow = gradesheet.find(name_matches.value).row\n",
    "    thiscol = gradesheet.find(assignment_matches.value).col\n",
    "    gradesheet.update_cell(thisrow, thiscol, input_text_grade.value)\n",
    "    \n",
    "# define widgets\n",
    "assignment_input = widgets.Text(description='assignment')\n",
    "assignment_matches = widgets.HTML(description='assignment match')\n",
    "name_input = widgets.Text(description='student')\n",
    "name_matches = widgets.HTML(description='student match')\n",
    "input_text_grade = widgets.Text(description='grade')\n",
    "write = widgets.Button(description='write')\n",
    "frame = widgets.HTML()\n",
    "\n",
    "# set up callbacks\n",
    "assignment_input.observe(print_list, names='value')\n",
    "name_input.observe(print_names, names='value')\n",
    "write.on_click(write_to_gspread)\n",
    "\n",
    "# display widgets\n",
    "display(widgets.HBox(children=(assignment_input, assignment_matches)))\n",
    "display(input_text_grade)\n",
    "display(widgets.HBox(children=(name_input, name_matches)))\n",
    "display(write)\n",
    "display(frame)"
   ]
  },
  {
   "cell_type": "code",
   "execution_count": null,
   "metadata": {
    "collapsed": true
   },
   "outputs": [],
   "source": []
  }
 ],
 "metadata": {
  "kernelspec": {
   "display_name": "Python 3",
   "language": "python",
   "name": "python3"
  },
  "language_info": {
   "codemirror_mode": {
    "name": "ipython",
    "version": 3
   },
   "file_extension": ".py",
   "mimetype": "text/x-python",
   "name": "python",
   "nbconvert_exporter": "python",
   "pygments_lexer": "ipython3",
   "version": "3.4.4"
  }
 },
 "nbformat": 4,
 "nbformat_minor": 0
}
