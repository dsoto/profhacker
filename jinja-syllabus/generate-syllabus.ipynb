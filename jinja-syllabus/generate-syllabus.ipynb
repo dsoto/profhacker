{
 "metadata": {
  "name": "",
  "signature": "sha256:d637057502930a713429ec640782c6b3ca26c459c5fae3c2ede488ab94bcb4b9"
 },
 "nbformat": 3,
 "nbformat_minor": 0,
 "worksheets": [
  {
   "cells": [
    {
     "cell_type": "markdown",
     "metadata": {},
     "source": [
      "Generates syllabus from jinja template and inserts tables generated from xlsx file with schedule. \n",
      "Outputs a markdown file to be converted or uploaded to github."
     ]
    },
    {
     "cell_type": "code",
     "collapsed": false,
     "input": [
      "import pandas as pd\n",
      "import numpy as np\n",
      "import tabulate"
     ],
     "language": "python",
     "metadata": {},
     "outputs": [],
     "prompt_number": 1
    },
    {
     "cell_type": "code",
     "collapsed": false,
     "input": [
      "schedule = pd.read_excel('schedule.xlsx', 'schedule', index='Lecture')"
     ],
     "language": "python",
     "metadata": {},
     "outputs": [],
     "prompt_number": 29
    },
    {
     "cell_type": "code",
     "collapsed": false,
     "input": [
      "def create_full_table(schedule, columns):\n",
      "\n",
      "    rdf = schedule[columns]\n",
      "    rdf = schedule[np.isfinite(schedule['Lecture'])]\n",
      "    \n",
      "    for col in columns:\n",
      "        if col is not 'Lecture':\n",
      "            rdf[col] = rdf[col].fillna('')\n",
      "            \n",
      "    tablestr = tabulate.tabulate(rdf[columns], headers=columns, tablefmt='pipe')\n",
      "    #print(tablestr)\n",
      "    return tablestr\n",
      "    \n",
      "def create_partial_table(schedule, columns):\n",
      "    \n",
      "    rdf = schedule[columns]\n",
      "    rdf = rdf.dropna()\n",
      "    tablestr = tabulate.tabulate(rdf[columns], headers=columns, tablefmt='pipe')\n",
      "    #print(tablestr)\n",
      "    return tablestr"
     ],
     "language": "python",
     "metadata": {},
     "outputs": [],
     "prompt_number": 31
    },
    {
     "cell_type": "code",
     "collapsed": false,
     "input": [
      "course_schedule = create_full_table(schedule, ['Lecture', 'Date', 'Topic'])"
     ],
     "language": "python",
     "metadata": {},
     "outputs": [],
     "prompt_number": 33
    },
    {
     "cell_type": "code",
     "collapsed": false,
     "input": [
      "project_schedule = create_partial_table(schedule, ['Date', 'Project'])"
     ],
     "language": "python",
     "metadata": {},
     "outputs": [],
     "prompt_number": 34
    },
    {
     "cell_type": "code",
     "collapsed": false,
     "input": [
      "reading_schedule = create_partial_table(schedule, ['Date', 'Reading'])"
     ],
     "language": "python",
     "metadata": {},
     "outputs": [],
     "prompt_number": 35
    },
    {
     "cell_type": "code",
     "collapsed": false,
     "input": [
      "homework_schedule = create_partial_table(schedule, ['Date', 'Homework'])"
     ],
     "language": "python",
     "metadata": {},
     "outputs": [],
     "prompt_number": 36
    },
    {
     "cell_type": "code",
     "collapsed": false,
     "input": [
      "import jinja2\n",
      "\n",
      "templateLoader = jinja2.FileSystemLoader( searchpath=\"/\" )\n",
      "templateEnv = jinja2.Environment( loader=templateLoader )\n",
      "TEMPLATE_FILE = \"/Users/dsoto/Dropbox/profhacker/jinja-syllabus/syllabus.jinja\"\n",
      "template = templateEnv.get_template( TEMPLATE_FILE )\n",
      "templateVars = { \"title\" : \"ENSP 330\",\n",
      "                 \"homework_schedule\" : homework_schedule,\n",
      "                 \"reading_schedule\" : reading_schedule,\n",
      "                 \"project_schedule\" : project_schedule\n",
      "               }\n",
      "\n",
      "# render template and output to file\n",
      "outputText = template.render( templateVars )\n",
      "with open('syllabus.md', 'w') as f:\n",
      "    f.write(outputText)"
     ],
     "language": "python",
     "metadata": {},
     "outputs": [],
     "prompt_number": 37
    },
    {
     "cell_type": "code",
     "collapsed": false,
     "input": [],
     "language": "python",
     "metadata": {},
     "outputs": [],
     "prompt_number": 37
    }
   ],
   "metadata": {}
  }
 ]
}